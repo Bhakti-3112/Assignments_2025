{
 "cells": [
  {
   "cell_type": "code",
   "execution_count": 3,
   "id": "556d46f9",
   "metadata": {},
   "outputs": [
    {
     "name": "stderr",
     "output_type": "stream",
     "text": [
      "\n",
      "image 1/1 c:\\bullseye3\\test13.jpg: 640x640 (no detections), 77.5ms\n",
      "Speed: 3.5ms preprocess, 77.5ms inference, 1.0ms postprocess per image at shape (1, 3, 640, 640)\n"
     ]
    },
    {
     "data": {
      "text/plain": [
       "True"
      ]
     },
     "execution_count": 3,
     "metadata": {},
     "output_type": "execute_result"
    }
   ],
   "source": [
    "from ultralytics import YOLO\n",
    "import cv2\n",
    "\n",
    "# Load the model\n",
    "model = YOLO(\"best.pt\")  # Replace with your model path\n",
    "\n",
    "# Load the image\n",
    "image_path = \"test13.jpg\"  # Replace with your image path\n",
    "results = model(image_path)\n",
    "\n",
    "# Get the annotated image\n",
    "annotated_image = results[0].plot()\n",
    "\n",
    "# Show the image\n",
    "cv2.imshow(\"YOLOv8 Detection\", annotated_image)\n",
    "cv2.waitKey(0)\n",
    "cv2.destroyAllWindows()\n",
    "\n",
    "# Save the result\n",
    "cv2.imwrite(\"output121.jpg\", annotated_image)"
   ]
  },
  {
   "cell_type": "code",
   "execution_count": null,
   "id": "213c0dcc",
   "metadata": {},
   "outputs": [],
   "source": []
  }
 ],
 "metadata": {
  "kernelspec": {
   "display_name": "Python 3",
   "language": "python",
   "name": "python3"
  },
  "language_info": {
   "codemirror_mode": {
    "name": "ipython",
    "version": 3
   },
   "file_extension": ".py",
   "mimetype": "text/x-python",
   "name": "python",
   "nbconvert_exporter": "python",
   "pygments_lexer": "ipython3",
   "version": "3.7.12"
  }
 },
 "nbformat": 4,
 "nbformat_minor": 5
}
